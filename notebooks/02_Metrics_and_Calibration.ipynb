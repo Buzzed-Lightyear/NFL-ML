{
 "cells": [
  {
   "cell_type": "markdown",
   "metadata": {},
   "source": [
    "# Metrics and Calibration\n\nDefinitions:\n- **Accuracy** = (TP+TN)/(TP+TN+FP+FN)\n- **Precision** = TP/(TP+FP)\n- **Recall** = TP/(TP+FN)\n- **F1** = 2PR/(P+R)\n- **ROC AUC**: probability a positive ranks above a negative\n- **Log Loss** = -mean[y log p + (1-y) log (1-p)]\n- **Brier Score** = mean[(p - y)^2]\n- **Calibration MAE** = mean|p - y|\n- **ECE@K**: avg bin |confidence - accuracy|\n- **MCE@K**: max bin |confidence - accuracy|"
   ]
  },
  {
   "cell_type": "code",
   "execution_count": null,
   "metadata": {},
   "outputs": [],
   "source": [
    "import numpy as np, pandas as pd, matplotlib.pyplot as plt\n",
    "from pathlib import Path\n\n",
    "# Update this path to your artifact if available\n",
    "proba_csv = Path('artifacts/predictions_example.csv')\n",
    "if not proba_csv.exists():\n",
    "    print('Update `proba_csv` to point to a predictions artifact CSV with y_true,y_pred_proba.')\n",
    "else:\n",
    "    df = pd.read_csv(proba_csv)\n",
    "    y = df['y_true'].to_numpy()\n",
    "    p = df['y_pred_proba'].to_numpy()\n",
    "    p = np.clip(p, 0.0, 1.0 - 1e-12)\n\n",
    "    def ece(y, p, n_bins=10):\n",
    "        edges = np.linspace(0,1,n_bins+1)\n",
    "        ids = np.digitize(p, edges, right=True)\n",
    "        ids = np.minimum(ids, n_bins)\n",
    "        e = 0.0\n",
    "        mce = 0.0\n",
    "        for b in range(1, n_bins+1):\n",
    "            m = ids == b\n",
    "            if not m.any():\n",
    "                continue\n",
    "            conf = p[m].mean()\n",
    "            acc  = y[m].mean()\n",
    "            w = m.mean()\n",
    "            e += w * abs(conf - acc)\n",
    "            mce = max(mce, abs(conf - acc))\n",
    "        return e, mce\n\n",
    "    e10, m10 = ece(y, p, 10)\n",
    "    e15, _   = ece(y, p, 15)\n",
    "    print(f'ECE@10={e10:.4f}  ECE@15={e15:.4f}  MCE@10={m10:.4f}')\n\n",
    "    bins = np.linspace(0,1,11)\n",
    "    ids = np.digitize(p, bins, right=True)\n",
    "    ids = np.minimum(ids, 10)\n",
    "    centers = 0.5*(bins[:-1]+bins[1:])\n",
    "    obs = [y[ids==i].mean() if (ids==i).any() else np.nan for i in range(1,11)]\n\n",
    "    plt.figure()\n",
    "    plt.plot([0,1],[0,1],'--')\n",
    "    plt.plot(centers, obs, marker='o')\n",
    "    plt.xlabel('Predicted probability')\n",
    "    plt.ylabel('Observed frequency')\n",
    "    plt.title('Reliability diagram')\n",
    "    plt.grid(True)\n",
    "    plt.show()"
   ]
  },
  {
   "cell_type": "markdown",
   "metadata": {},
   "source": [
    "A well-calibrated model follows the diagonal. Downward curves mean overconfidence; upward curves mean underconfidence. Try Platt or Isotonic calibration if needed." ]
  }
 ],
 "metadata": {
  "kernelspec": {
   "display_name": "Python 3",
   "language": "python",
   "name": "python3"
  },
  "language_info": {
   "name": "python",
   "version": "3.10"
  }
 },
 "nbformat": 4,
 "nbformat_minor": 5
}
