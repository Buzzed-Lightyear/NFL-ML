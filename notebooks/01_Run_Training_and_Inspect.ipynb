{
 "cells": [
  {
   "cell_type": "markdown",
   "metadata": {},
   "source": [
    "# Run Training and Inspect\n\nUse smaller year ranges for quick tests. Uncomment the command below to run a baseline experiment." ]
  },
  {
   "cell_type": "code",
   "execution_count": null,
   "metadata": {},
   "outputs": [],
   "source": [
    "# Uncomment to run:\n",
    "# !python src/main_mlflow.py --experiment-name temp_exp --train-years 2018,2019 --eval-years 2020 --test-years 2021 --models rf,svm --run-type baseline"
   ]
  },
  {
   "cell_type": "code",
   "execution_count": null,
   "metadata": {},
   "outputs": [],
   "source": [
    "from pathlib import Path\n",
    "import pandas as pd\n",
    "reports = sorted(Path('reports').glob('run_comparison_*.csv'))\n",
    "reports[-1] if reports else None\n",
    "if reports:\n",
    "    display(pd.read_csv(reports[-1]))\n",
    "else:\n",
    "    print('No comparison CSV found. Run compare_runs.py first.')"
   ]
  },
  {
   "cell_type": "markdown",
   "metadata": {},
   "source": [
    "Launch MLflow UI with `mlflow ui` and open <http://localhost:5000>. Inspect params, metrics, and artifacts." ]
  }
 ],
 "metadata": {
  "kernelspec": {
   "display_name": "Python 3",
   "language": "python",
   "name": "python3"
  },
  "language_info": {
   "name": "python",
   "version": "3.10"
  }
 },
 "nbformat": 4,
 "nbformat_minor": 5
}
